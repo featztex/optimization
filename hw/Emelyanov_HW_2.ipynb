{
 "cells": [
  {
   "cell_type": "markdown",
   "id": "0a6fcbb6",
   "metadata": {},
   "source": [
    "# Домашнее задание 2\n",
    "\n",
    "Это домашнее задание по материалам второго семинаров. Дедлайн по отправке - 23:55 17 февраля. \n",
    "\n",
    "Домашнее задание выполняется в этом же Jupyter Notebook'e и присылается мне на почту: __beznosikov.an@phystech.edu__.\n",
    "\n",
    "Решение каждой задачи необходимо поместить после её условия.\n",
    "\n",
    "Файл должен называться: Фамилия_Имя_Optimization_HW_2\n",
    "\n",
    "При полном запуске Вашего решения (Kernel -> Restart & Run All) все ячейки должны выполняться без ошибок. "
   ]
  },
  {
   "cell_type": "markdown",
   "id": "1b1a30ed",
   "metadata": {},
   "source": [
    "## Задача 1\n",
    "\n",
    "Рассмотрим проекцию на единичном $\\ell_1$-шар:\n",
    "\\begin{equation*}\n",
    "    \\text{proj}_{C}(x) = \\arg\\min_{y \\in C} \\|x-y\\|^2,\n",
    "\\end{equation*}\n",
    "где $C = \\{x ~|~ \\|x\\|_1 \\leq 1 \\}$.\n",
    "\n",
    "__(а)__ Найдите выражение для такой проекции в явном виде."
   ]
  },
  {
   "attachments": {},
   "cell_type": "markdown",
   "id": "4fefe348",
   "metadata": {},
   "source": [
    "ОТВЕТ\n",
    "\n",
    "$\\text{proj}_C(x) = \\{ \\arg\\min_{y \\in C} \\|x-y\\|^2 = \\frac{x}{\\|x\\|}, \\text{ if } x \\notin C; x, \\text{ if } x \\in C \\} $."
   ]
  },
  {
   "cell_type": "markdown",
   "id": "0e95c5e2",
   "metadata": {},
   "source": [
    "__(б)__ Сравните:\n",
    "\\begin{equation*}\n",
    "    \\text{proj}_C (x) \\quad \\text{и} \\quad \\text{prox}_{\\lambda \\mathbb{I}_C} (x),\n",
    "\\end{equation*}\n",
    "где $\\lambda > 0$, а $\\mathbb{I}_C$ - индикаторная функция множества $C$:\n",
    "$$\n",
    "\\mathbb{I}_C = \n",
    "\\begin{cases}\n",
    "0 ,& x \\in C \\\\\n",
    "+\\infty, &x \\notin C.\n",
    "\\end{cases}\n",
    "$$\n",
    "Являются ли данные операторы эквивалентными для любых $\\lambda > 0$ и выпуклых $C$?"
   ]
  },
  {
   "attachments": {},
   "cell_type": "markdown",
   "id": "6937f4a1",
   "metadata": {},
   "source": [
    "ОТВЕТ\n",
    "\n",
    "$\\text{prox}_{\\lambda I_C}(x) = \\arg\\min_{y \\in C} (\\lambda I_C + \\frac{1}{2}\\|x-y\\|^2) = \\{ \\frac{1}{2}\\arg\\min\\|x-y\\|^2, \\text{if }y \\in C, +\\inf \\text{if } y \\notin C\\} = \\frac{1}{2}\\text{proj}_C(x)$.\n",
    "\n",
    "Таким образом, они являются эквивалентными."
   ]
  },
  {
   "cell_type": "markdown",
   "id": "969a8d32",
   "metadata": {},
   "source": [
    "## Задача 2\n",
    "\n",
    "Рассмотрим задачу минимизации эмпирического риска:\n",
    "\\begin{equation}\n",
    "\\min_{w \\in \\mathbb{R}^d} \\frac{1}{n} \\sum\\limits_{i=1}^n l (g(w, x_i), y_i),\n",
    "\\end{equation}\n",
    "где $l$ - функция потерь, $g$ - модель, $w$ - параметры модели, $\\{x_i, y_i\\}_{i=1}^n$ - выборка данных из векторов признаков $x_i$ и меток $y_i$.\n",
    "\n",
    "Далее будем рассматривать линейной модель $g(w, x) = w^T x$ и квадратичную функцию потерь $l(z, y) = (z-y)^2$.\n",
    "\n",
    "__(а)__ Запишите задачу минимизации эмпирического риска с линейной моделью  и квадратичной функцией потерь в векторно-матричном виде, используя $X$ - матрицу из векторов $\\{x_i\\}$ и вектор $y$ - из $\\{y_i\\}$."
   ]
  },
  {
   "attachments": {},
   "cell_type": "markdown",
   "id": "80de0061",
   "metadata": {},
   "source": [
    "ОТВЕТ\n",
    "\n",
    "Задача запишется следующим образом:\n",
    "\\begin{equation*}\n",
    "    \\min \\frac{1}{n} \\sum_{i=1}^n (\\omega^T x_i - y_i)^2,\n",
    "\\end{equation*}\n",
    "что эквивалентно следующему:\n",
    "\\begin{equation*}\n",
    "    \\min_{\\omega \\in \\mathbb{R}^d} \\|X^T\\omega - y\\|^2,\n",
    "\\end{equation*}\n",
    "\n",
    "\\begin{equation*}\n",
    "    f(\\omega) = \\frac{1}{2} \\omega^TX^TX\\omega - y^TX\\omega \\rightarrow \\text{min}.\n",
    "\\end{equation*}\n",
    "\n",
    "То есть мы получили квадратичную задачу:\n",
    "\\begin{equation*}\n",
    "    A = X^TX, \\; b = y^TX\n",
    "\\end{equation*}"
   ]
  },
  {
   "cell_type": "markdown",
   "id": "ecdb57fe",
   "metadata": {},
   "source": [
    "__(б)__ К заданию приложен датасет _mushrooms_. С помощью следующего кода сформируйте матрицу $X$ и вектор $y$:"
   ]
  },
  {
   "cell_type": "code",
   "execution_count": 5,
   "id": "561d93a9",
   "metadata": {},
   "outputs": [],
   "source": [
    "import numpy as np\n",
    "from sklearn.datasets import load_svmlight_file\n",
    "\n",
    "dataset = \"mushrooms.txt\"\n",
    "data = load_svmlight_file(dataset)\n",
    "X, y = data[0].toarray(), data[1]\n",
    "y -= 1.0\n",
    "n, d = X.shape"
   ]
  },
  {
   "cell_type": "code",
   "execution_count": 4,
   "id": "c148e417",
   "metadata": {},
   "outputs": [
    {
     "name": "stdout",
     "output_type": "stream",
     "text": [
      "Класс 0:  4208\n",
      "Класс 1:  3916\n"
     ]
    }
   ],
   "source": [
    "z = np.count_nonzero(y)\n",
    "print('Класс 0: ', z)\n",
    "print('Класс 1: ', n - z)\n",
    "\n",
    "# элементов 0 и 1 класса примерно поровну"
   ]
  },
  {
   "cell_type": "markdown",
   "id": "1d466614",
   "metadata": {},
   "source": [
    "Разделите (лучше случайно) данные (а значит $X$ и $y$) на две части: обучающую и тестовую (примерно в отношении $4$ к $1$). Опишите, как это было сделано."
   ]
  },
  {
   "cell_type": "code",
   "execution_count": 7,
   "id": "77aa2178",
   "metadata": {},
   "outputs": [
    {
     "name": "stdout",
     "output_type": "stream",
     "text": [
      "train data len: 6499\n",
      "test data len: 1625\n"
     ]
    }
   ],
   "source": [
    "from sklearn.model_selection import train_test_split\n",
    "\n",
    "train_size = 0.8\n",
    "test_size = 0.2\n",
    "X_train, X_test, y_train, y_test = train_test_split(X, y, train_size=train_size, test_size=test_size, shuffle=True)\n",
    "print(f\"train data len: {len(X_train)}\")\n",
    "print(f\"test data len: {len(X_test)}\")"
   ]
  },
  {
   "cell_type": "markdown",
   "id": "d3b84fa5",
   "metadata": {},
   "source": [
    "__(в)__ Для обучающей части $X_{train}$, $y_{train}$ оцените константу $L$ задачи обучения/оптимизации. Будет ли задача выпуклой? Сильно выпуклой?"
   ]
  },
  {
   "cell_type": "code",
   "execution_count": 12,
   "id": "0b3d1448",
   "metadata": {},
   "outputs": [
    {
     "name": "stdout",
     "output_type": "stream",
     "text": [
      "mu = 1.0585482117836034e-12, L = 67396.13877274515\n"
     ]
    }
   ],
   "source": [
    "import scipy \n",
    "\n",
    "A_train = X_train @ X_train.T\n",
    "lambdas, _ = scipy.sparse.linalg.eigsh(A_train, 111, which='LA')\n",
    "\n",
    "m = min(lambdas)\n",
    "L = max(lambdas)\n",
    "print(f'mu = {m}, L = {L}')\n",
    "\n",
    "# задача квадратичная, поэтому можем оценить mu и L по собственным числам матрицы A"
   ]
  },
  {
   "attachments": {},
   "cell_type": "markdown",
   "id": "fc80de88",
   "metadata": {},
   "source": [
    "$L > 0, \\mu \\approx 0 \\rightarrow$ задача является выпуклой. Сильно выпуклой назвать ее рука не поднимается..."
   ]
  },
  {
   "cell_type": "markdown",
   "id": "2c8a1056",
   "metadata": {},
   "source": [
    "__(г)__ Используя материалы прошлого ДЗ (по желанию), решите задачу оптимизации/обучите модель машинного обучения с помощью градиентного спуска. Изобразите график сходимости. Какой критерий сходимости будет использовать? Сделайте вывод. Опишите проблемы, с которыми пришлось столкнуться."
   ]
  },
  {
   "cell_type": "code",
   "execution_count": 28,
   "id": "bf6f1b46",
   "metadata": {},
   "outputs": [],
   "source": [
    "#ответ\n",
    "import math\n",
    "\n",
    "A = X_train.T @ X_train\n",
    "b = y_train.T @ X_train\n",
    "\n",
    "def f(w):\n",
    "    return 0.5 * w.T @ A @ w - b.T @ w\n",
    "\n",
    "def grad_f(w):\n",
    "    return A @ w - b\n",
    "\n",
    "# наискорейший спуск\n",
    "def alpha(w):\n",
    "    g = grad_f(w)\n",
    "    return (g.T @ g) / (g.T @ A @ g)\n",
    "\n",
    "\n",
    "def grad_descent(iters=100):\n",
    "\n",
    "    w = np.random.random_integers(-5, 5, d)\n",
    "    f_vals = [f(w)]\n",
    "    x_vals = [w]\n",
    "\n",
    "    for i in range(iters):\n",
    "        w = w - alpha(w) * grad_f(w)\n",
    "        x_vals.append(w)\n",
    "        f_vals.append(f(w))\n",
    "        \n",
    "    print(f\"Optimal: f(w*) = {f(w)}, \\n w* = {w}\")\n",
    "    return x_vals, f_vals"
   ]
  },
  {
   "cell_type": "code",
   "execution_count": 54,
   "id": "bbd47208",
   "metadata": {},
   "outputs": [
    {
     "name": "stderr",
     "output_type": "stream",
     "text": [
      "/tmp/ipykernel_32685/3430371144.py:21: DeprecationWarning: This function is deprecated. Please call randint(-5, 5 + 1) instead\n",
      "  w = np.random.random_integers(-5, 5, d)\n"
     ]
    },
    {
     "name": "stdout",
     "output_type": "stream",
     "text": [
      "Optimal: f(w*) = -1655.7552289394844, \n",
      " w* = [-3.20421185 -1.00131698 -1.02468973 -1.00282486 -1.18030905 -1.02234549\n",
      " -1.19573044 -1.20540775  0.16257413 -1.1971339   1.08445182  0.79130654\n",
      "  0.79188324  0.76846415  0.79078543  0.74104162 -0.01289421  0.0872401\n",
      "  0.75913848  0.76288487  4.69688035  3.86742169 -1.45820016 -2.20518427\n",
      "  3.39574143  3.22557653 -1.4584402  -0.84274596 -2.88368423  3.39697478\n",
      "  3.39426412  1.26308023  0.3012218   0.22634054  0.33796149  1.04733716\n",
      "  1.51696487 -1.84762994  1.80946763  1.7513145   1.73900219  1.72981414\n",
      "  1.77328888  1.74942671  1.75030183  1.8277574   1.76316806  1.76298313\n",
      "  1.75540751  1.17243013  0.3918719  -0.94595788  0.16174067  0.17338672\n",
      "  0.17513252 -3.60063771 -3.61148582 -3.60415988 -3.61941457 -1.77442347\n",
      " -0.22981906 -0.23328983 -0.24870203 -0.22119233 -0.21215865 -0.25095049\n",
      " -0.27578215  2.01062005 -4.77442347 -1.94456919 -2.00563631 -2.01707367\n",
      " -1.22119233 -1.88830716 -2.00849342 -2.05746124 -2.51854117 -1.43569797\n",
      "  3.01062005  0.89179916  2.77487431  0.88700851  3.82326239  1.51546311\n",
      "  1.22557653 -3.90670107 -2.77442347 -2.94042073 -4.12015082  1.30599812\n",
      "  1.50187773 -3.65939161  1.36229712  1.49957494  1.36789988 -2.67678572\n",
      "  1.53382431 -0.86659371  1.5015991  -0.63349145 -0.56495703 -0.56158074\n",
      " -0.58593479 -0.53911854 -0.55061541  0.81829078  0.74198895  0.77242213\n",
      "  0.83248277  0.76580901  0.65606926 -1.02276088]\n"
     ]
    }
   ],
   "source": [
    "iters = 5000\n",
    "x_vals, f_vals = grad_descent(iters)"
   ]
  },
  {
   "attachments": {},
   "cell_type": "markdown",
   "id": "eb3b7f8f",
   "metadata": {},
   "source": [
    "Из-за отсутствия выраженной сильной выпуклости даже наискорейший спуск сходится проблематично. \n",
    "\n",
    "Посмотрим на график сходимости по критерию $|f(x_{k+1}) - f(x_k)|$."
   ]
  },
  {
   "cell_type": "code",
   "execution_count": 53,
   "id": "e72fce8b",
   "metadata": {},
   "outputs": [
    {
     "data": {
      "image/png": "[encoded data removed]",
      "text/plain": [
       "<Figure size 640x480 with 1 Axes>"
      ]
     },
     "metadata": {},
     "output_type": "display_data"
    },
    {
     "data": {
      "image/png": "[encoded data removed]",
      "text/plain": [
       "<Figure size 640x480 with 1 Axes>"
      ]
     },
     "metadata": {},
     "output_type": "display_data"
    }
   ],
   "source": [
    "import matplotlib.pyplot as plt\n",
    "\n",
    "err = [abs(f_vals[k+1] - f_vals[k]) for k in range(100, iters-1)]\n",
    "err.append(err[-1])\n",
    "\n",
    "\n",
    "plt.plot(range(100, iters), err)\n",
    "plt.xlabel(\"Номер итерации\")\n",
    "plt.ylabel(\"Значение критерия\")\n",
    "plt.show()\n",
    "\n",
    "plt.plot(range(100, iters), np.log(err))\n",
    "plt.xlabel(\"Номер итерации\")\n",
    "plt.ylabel(\"Логарифм критерия\")\n",
    "plt.show()\n",
    "\n",
    "# на первых шагах всегда происходит какая-то дичь, поэтому первые 100 итераций я выкинул"
   ]
  },
  {
   "attachments": {},
   "cell_type": "markdown",
   "id": "1f70e867",
   "metadata": {},
   "source": [
    "Как-то не похоже на линейную сходимость. Метод сходится медленно из-за плохой обусловленности матрицы. \n",
    "\n",
    "Проблема №2: даже при 5000 итераций начальная точка существенно сказывается на решении (при разных запусках погрешность решения может кратно меняться)."
   ]
  },
  {
   "cell_type": "markdown",
   "id": "5f7902e5",
   "metadata": {},
   "source": [
    "__(д)__ Как использовать итоговую модель для предсказания? Ответив на вопрос, сделайте предсказания на тестовой выборке. Сравните с реальными метками. Количество правильно угаданных меток есть точность/accuracy вашей модели. Запустите еще раз процесс обучения из пункта г), постройте как меняется точность модели от номера итерации градиентного спуска (измеряйте не каждую итерацию, а, например, каждую 100 или 1000). "
   ]
  },
  {
   "cell_type": "code",
   "execution_count": 91,
   "id": "7c7dd224",
   "metadata": {},
   "outputs": [
    {
     "name": "stdout",
     "output_type": "stream",
     "text": [
      "Train accuracy: 0.987228804431451\n",
      "Test accuracy: 0.9790769230769231 \n",
      "\n"
     ]
    }
   ],
   "source": [
    "from sklearn.metrics import accuracy_score\n",
    "\n",
    "def acc_score(w):\n",
    "    train = accuracy_score([round(x) for x in (X_train @ w)], y_train)\n",
    "    test = accuracy_score([round(x) for x in (X_test @ w)], y_test)\n",
    "    return train, test\n",
    "\n",
    "# веса - w*\n",
    "w = x_vals[-1]\n",
    "\n",
    "train1, test1 = acc_score(w)\n",
    "print(f\"Train accuracy: {train1}\")\n",
    "print(f\"Test accuracy: {test1} \\n\")"
   ]
  },
  {
   "cell_type": "code",
   "execution_count": 94,
   "id": "53e086ef",
   "metadata": {},
   "outputs": [
    {
     "name": "stdout",
     "output_type": "stream",
     "text": [
      "[ 0.04981836  1.01458961  0.33127479  0.0226246  -0.11155102  0.06375485\n",
      "  0.97892139  0.01677088  0.92239563  0.03946991]\n",
      "[0. 1. 0. 0. 0. 0. 1. 0. 1. 0.]\n"
     ]
    }
   ],
   "source": [
    "print((X_train @ w)[:10])\n",
    "print(y_train[0:10])\n",
    "\n",
    "# реально работает!"
   ]
  },
  {
   "cell_type": "code",
   "execution_count": 95,
   "id": "e19beab5",
   "metadata": {},
   "outputs": [
    {
     "data": {
      "image/png": "[encoded data removed]",
      "text/plain": [
       "<Figure size 640x480 with 1 Axes>"
      ]
     },
     "metadata": {},
     "output_type": "display_data"
    }
   ],
   "source": [
    "acc = list()\n",
    "n = list()\n",
    "for i in range(0, len(x_vals), 50):\n",
    "    w = x_vals[i]\n",
    "    n.append(i)\n",
    "    acc.append(accuracy_score([round(x) for x in (X_test @ w)], y_test))\n",
    "\n",
    "plt.plot(n, acc)\n",
    "plt.xlabel(\"number of iterations\")\n",
    "plt.ylabel(\"test accuracy\")\n",
    "plt.show()"
   ]
  },
  {
   "cell_type": "markdown",
   "id": "29c04712",
   "metadata": {},
   "source": [
    "__(e)__ Теперь рассмотрим эту же задачу обучения на $\\ell_1$-шаре с радиусом $\\lambda$. Повторите пункты г) и д) только теперь градиентный спуск должен быть модифицирован с помощью оператора проекции. Пробуйте различные $\\lambda > 0$ и найдите лучшее (опишите почему именно такое лучшее). Удалось ли улучшить процесс обучения/точность модели на тестовой выборке? "
   ]
  },
  {
   "cell_type": "code",
   "execution_count": 87,
   "id": "46b1db1d",
   "metadata": {},
   "outputs": [],
   "source": [
    "#ответ"
   ]
  },
  {
   "cell_type": "markdown",
   "id": "56317873",
   "metadata": {},
   "source": [
    "__Бонусные пункт__\n",
    "\n",
    "__(ж)__ Снова рассмотрим задачу обучения без ограничений, но добавим к ней регуляризатор 1) $\\lambda \\| x \\|_1$ c $\\lambda  > 0$, 2) $\\lambda \\| x \\|_2$ c $\\lambda  > 0$. Сможем ли для новой задачи с регуляризатором использовать честный градиентный спуск без модификаций? Почему? Предложите свои идеи, как модифицировать градиентный спуск для новой задачи. Проведите для него эксперименты из пунктов г) и д).  Пробуйте различные $\\lambda > 0$ и найдите лучшее (опишите почему именно такое лучшее). Сравните результаты с пунктом e)."
   ]
  },
  {
   "cell_type": "code",
   "execution_count": 88,
   "id": "caad1f26",
   "metadata": {},
   "outputs": [],
   "source": [
    "#ответ"
   ]
  },
  {
   "cell_type": "markdown",
   "id": "5de0ffdd",
   "metadata": {},
   "source": [
    "__(з)__ Воспользуемся для нашей задачи методом [PCA](https://ru.wikipedia.org/wiki/Метод_главных_компонент). Прочитайте про него подробнее и опишите основную идею."
   ]
  },
  {
   "cell_type": "code",
   "execution_count": 89,
   "id": "db1b1c66",
   "metadata": {},
   "outputs": [],
   "source": [
    "#ответ"
   ]
  },
  {
   "cell_type": "markdown",
   "id": "35d55f20",
   "metadata": {},
   "source": [
    "Следующий код запускает PCA для нашего датасета. Убедитесь, что понимаете происходящие."
   ]
  },
  {
   "cell_type": "code",
   "execution_count": 90,
   "id": "d3a91111",
   "metadata": {},
   "outputs": [
    {
     "name": "stdout",
     "output_type": "stream",
     "text": [
      "[0.16988783 0.30188314 0.39533193 0.45706241 0.49694434 0.5354278\n",
      " 0.56809056 0.59658729 0.62378224 0.64580558]\n"
     ]
    }
   ],
   "source": [
    "from sklearn.decomposition import PCA\n",
    "\n",
    "pca = PCA(n_components=10)\n",
    "pca.fit(X_train)  #эта строчка будет работать только если есть матрица X_train\n",
    "print (pca.explained_variance_ratio_.cumsum())"
   ]
  },
  {
   "cell_type": "markdown",
   "id": "086cf178",
   "metadata": {},
   "source": [
    "Какое значение n_components разумно поставить? Для новой матрицы X_train повторите пункт ж). Измерьте время работы процесса обучения. Постройте график точности решения на тестовой выборке от времени работы для честного X_train и полученного с помощью PCA."
   ]
  },
  {
   "cell_type": "code",
   "execution_count": null,
   "id": "bc380da1",
   "metadata": {},
   "outputs": [],
   "source": []
  }
 ],
 "metadata": {
  "kernelspec": {
   "display_name": "Python 3",
   "language": "python",
   "name": "python3"
  },
  "language_info": {
   "codemirror_mode": {
    "name": "ipython",
    "version": 3
   },
   "file_extension": ".py",
   "mimetype": "text/x-python",
   "name": "python",
   "nbconvert_exporter": "python",
   "pygments_lexer": "ipython3",
   "version": "3.8.10"
  },
  "vscode": {
   "interpreter": {
    "hash": "916dbcbb3f70747c44a77c7bcd40155683ae19c65e1c03b4aa3499c5328201f1"
   }
  }
 },
 "nbformat": 4,
 "nbformat_minor": 5
}
