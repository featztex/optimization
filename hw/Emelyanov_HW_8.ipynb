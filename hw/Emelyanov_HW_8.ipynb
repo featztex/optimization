{
 "cells": [
  {
   "cell_type": "markdown",
   "id": "0a6fcbb6",
   "metadata": {},
   "source": [
    "# Домашнее задание 8\n",
    "\n",
    "Это домашнее задание по материалам второго семинаров. Дедлайн по отправке - 23:55 21 апреля. \n",
    "\n",
    "Домашнее задание выполняется в этом же Jupyter Notebook'e и присылается мне на почту: __beznosikov.an@phystech.edu__.\n",
    "\n",
    "Решение каждой задачи необходимо поместить после её условия.\n",
    "\n",
    "Файл должен называться: Фамилия_Имя_Optimization_HW_8\n",
    "\n",
    "При полном запуске Вашего решения (Kernel -> Restart & Run All) все ячейки должны выполняться без ошибок. "
   ]
  },
  {
   "cell_type": "markdown",
   "id": "969a8d32",
   "metadata": {},
   "source": [
    "## Задача 1\n",
    "\n",
    "Рассмотрим билинейную седловую задачу:\n",
    "\\begin{equation}\n",
    "\\min_{x \\in [-10; 10]^d} \\max_{y \\in [-10; 10]^d} f(x,y) = (x-b_x)^T A (y - b_y) + \\frac{\\lambda}{2}\\| x - b_x\\|^2 - \\frac{\\lambda}{2}\\| y - b_y\\|^2,\n",
    "\\end{equation}\n",
    "где в качестве матрицы $A$ - случайно сгенерированная матрица с $L =1000$, $\\mu = 0.01$, $d = 100$, $b_x$ и $b_y$ - случайные векторы c компонентами из отрезка $[-10; 10]$, $\\lambda = 1$.\n",
    "\n",
    "__(а)__ Какое решение у данной задачи? Является ли данная задача сильно выпуклой по $x$ и сильно вогнутой по $y$? Если да, то чему равна константа сильной выпуклости? Является ли оператор, соотвествующего это задаче вариационного неравенства, сильно монотонным? Липшицевым? Чему равны $L$ и $\\mu$ для данного оператора? "
   ]
  },
  {
   "cell_type": "code",
   "execution_count": 2,
   "id": "1340b577",
   "metadata": {},
   "outputs": [],
   "source": [
    "import numpy as np\n",
    "import scipy.linalg as la\n",
    "import math\n",
    "import matplotlib.pyplot as plt\n",
    "import time\n",
    "import random"
   ]
  },
  {
   "cell_type": "code",
   "execution_count": 3,
   "id": "b90316a8",
   "metadata": {},
   "outputs": [],
   "source": [
    "def generate(d = 100, m = 1, L = 1000, border=10):\n",
    "\n",
    "    # сгенерируем диагональную матрицу по собственным числам\n",
    "    if d == 1:\n",
    "        lambdas = [m]\n",
    "    if d == 2:\n",
    "        lambdas = [m, L]\n",
    "    if d > 2:\n",
    "        lambdas = np.random.uniform(low=m, high=L, size=(d-2,))\n",
    "        lambdas = lambdas.tolist() + [m, L]\n",
    "\n",
    "    A = np.diag(lambdas)\n",
    "    q, _ = la.qr(np.random.rand(d, d))\n",
    "    A = q.T @ A @ q\n",
    "    b_x = np.random.uniform(low=-border, high=border, size=(d,))\n",
    "    b_y = np.random.uniform(low=-border, high=border, size=(d,))\n",
    "\n",
    "    return A, b_x, b_y"
   ]
  },
  {
   "cell_type": "code",
   "execution_count": 9,
   "id": "447db2cd",
   "metadata": {},
   "outputs": [],
   "source": [
    "L = 1000\n",
    "m = 0.01\n",
    "d = 100\n",
    "\n",
    "A, b_x, b_y = generate(d=d, m=m, L=L)\n",
    "z0 = np.random.uniform(low=-10, high=10, size=(2*d,))"
   ]
  },
  {
   "cell_type": "markdown",
   "id": "ecdb57fe",
   "metadata": {},
   "source": [
    "__(б)__ Решите данную задачу с помощью метода градиентного спуска(подъема) с проекцией и с помощью метода Экстраградиента с проекцией(смотри Секцию 3.3 [статью](https://arxiv.org/pdf/1802.10551.pdf)). Для начала попробуйте теоретические шаги для данных методов. Далее подберите шаг для наилучшей сходимости. Постройте график сходимости (относительное расстояние до решения по аргументу от числа подсчетов градиентов). На графике должно быть 4 линии, по две на каждый из методов. Сделайте вывод."
   ]
  },
  {
   "cell_type": "code",
   "execution_count": 15,
   "id": "f0cbb7a1",
   "metadata": {},
   "outputs": [],
   "source": [
    "def split(z):\n",
    "    return np.split(z, 2)[0], np.split(z, 2)[1]\n",
    "\n",
    "def merge(x, y):\n",
    "    return np.concatenate((x, y), axis=None)\n",
    "\n",
    "def F(z):\n",
    "    l = len(z)\n",
    "    x, y = split(z)\n",
    "    grad_x = A @ (y - b_y) + (x - b_x)\n",
    "    grad_y = A.T @ (x - b_x) - (y - b_y)\n",
    "    return merge(grad_x, -grad_y)"
   ]
  },
  {
   "cell_type": "code",
   "execution_count": 26,
   "id": "4a478c90",
   "metadata": {},
   "outputs": [],
   "source": [
    "def err_norm(z):\n",
    "    return np.linalg.norm(F(z), ord=2)**2\n",
    "\n",
    "def err_R(z):\n",
    "    x, y = split(z)\n",
    "    return np.linalg.norm(x - b_x, ord=2)**2 + np.linalg.norm(y - b_y, ord=2)**2"
   ]
  },
  {
   "cell_type": "code",
   "execution_count": 27,
   "id": "602d9ac5",
   "metadata": {},
   "outputs": [],
   "source": [
    "def extragradient(z0, gamma, error, iters=3000, eps=1e-12):\n",
    "\n",
    "    z = z0\n",
    "    z_vals = [z]\n",
    "    times = [0.]\n",
    "    errs = [error(z)]\n",
    "    start = time.time()\n",
    "\n",
    "    for i in range(0, iters-1):\n",
    "        \n",
    "        w = z - gamma * F(z)\n",
    "        z = z - gamma * F(w)\n",
    "\n",
    "        z_vals.append(z)\n",
    "        times.append(time.time() - start)\n",
    "        err = error(z)\n",
    "        errs.append(err)\n",
    "        if err < eps:\n",
    "            break\n",
    "\n",
    "    return z_vals, times, errs"
   ]
  },
  {
   "cell_type": "code",
   "execution_count": 28,
   "id": "270d0aef",
   "metadata": {},
   "outputs": [],
   "source": [
    "def risovach(errs, labels, title, log=True):\n",
    "    plt.figure(figsize=(9, 6))\n",
    "    if log:\n",
    "        for err, lab in zip(errs, labels):\n",
    "            plt.plot(range(len(err)), np.log(err), label=lab)\n",
    "        ylabel = 'Логарифм критерия'\n",
    "    else:\n",
    "        for inf, err, lab in zip(errs, labels):\n",
    "            plt.plot(range(len(err)), err, label=lab)\n",
    "        ylabel = 'Значение критерия'\n",
    "\n",
    "    plt.xlabel(\"Номер итерации\")\n",
    "    plt.ylabel(ylabel)\n",
    "    plt.title(title)\n",
    "    plt.legend(fontsize=12)\n",
    "    plt.show()"
   ]
  },
  {
   "cell_type": "code",
   "execution_count": 31,
   "id": "2f6db0f9",
   "metadata": {},
   "outputs": [
    {
     "data": {
      "image/png": "[encoded data removed]",
      "text/plain": [
       "<Figure size 900x600 with 1 Axes>"
      ]
     },
     "metadata": {},
     "output_type": "display_data"
    }
   ],
   "source": [
    "z_vals, times, errs = extragradient(z0, gamma=1/L, error=err_R, iters=10000)\n",
    "risovach(errs=[errs], labels=['Extragradient'], title='First test')"
   ]
  },
  {
   "cell_type": "code",
   "execution_count": 1,
   "id": "46b1db1d",
   "metadata": {},
   "outputs": [],
   "source": [
    "def proj(x):\n",
    "    '''\n",
    "    for i in range(len(x)):\n",
    "        if abs(x[i]) > 10:\n",
    "            x[i] = 10 * np.sign(x[i])\n",
    "    '''\n",
    "    return x"
   ]
  },
  {
   "cell_type": "markdown",
   "id": "c50d27e1",
   "metadata": {},
   "source": [
    "## Задача 2\n",
    "\n",
    "Теперь рассмотрим билинейную задачу на симплексе. Описание задачи возьмите из [лекций](https://www2.isye.gatech.edu/~nemirovs/BrazilTransparenciesJuly4.pdf) - Слайд 125 \"How it Works: Policeman vs. Burglar\" и следующий.\n",
    "\n",
    "__(а)__ Сгенерируйте матрицу для данной задачи размера $n=10$ c $\\theta = 1$."
   ]
  },
  {
   "cell_type": "code",
   "execution_count": 1,
   "id": "3cfdcc4e",
   "metadata": {},
   "outputs": [],
   "source": [
    "#ответ"
   ]
  },
  {
   "cell_type": "markdown",
   "id": "f5f7c504",
   "metadata": {},
   "source": [
    "__(б)__ Для данной задачи предложите модификацию метода Экстраградиента, которая учитывает, что задача решается на симплексе. В этом может помочь [статья](https://arxiv.org/pdf/0809.0815.pdf) (смотри Секцию 3.3). Реализуйте данный метод."
   ]
  },
  {
   "cell_type": "code",
   "execution_count": 2,
   "id": "e48c3edf",
   "metadata": {},
   "outputs": [],
   "source": [
    "#ответ"
   ]
  },
  {
   "cell_type": "markdown",
   "id": "d1335c12",
   "metadata": {},
   "source": [
    "__(в)__ Решите билинейную задачу на симплексе с помощью нового метода и методов из Задачи 1. Как будете измерять сходимость? Возможно, в работах, из которых были взяты методы, найдется ответ. Постройте график сходимости. Визуализирйте полученный ответ, как это сделано в файле с лекциями. Сделайте вывод.  "
   ]
  },
  {
   "cell_type": "code",
   "execution_count": null,
   "id": "5bb8952e",
   "metadata": {},
   "outputs": [],
   "source": [
    "#ответ"
   ]
  },
  {
   "cell_type": "markdown",
   "id": "56317873",
   "metadata": {},
   "source": [
    "__Бонусные пункты__\n",
    "\n",
    "__(г)__ Реализуйте методы из Секции 3 [работы](https://arxiv.org/pdf/1908.08465.pdf). Решите с помощью них Задачу 1. Добавьте сходимость на график из пункта (б) Задачи 1."
   ]
  },
  {
   "cell_type": "code",
   "execution_count": null,
   "id": "caad1f26",
   "metadata": {},
   "outputs": [],
   "source": [
    "#ответ"
   ]
  },
  {
   "cell_type": "markdown",
   "id": "5de0ffdd",
   "metadata": {},
   "source": [
    "__(д)__ Реализуйте Алгоритм 1 и Алгоритм 2 из [работы](https://arxiv.org/pdf/2102.08352.pdf). Решите с помощью них Задачу 2 (могут помочь Секции 5 и 6 из упомянутой работы). Добавьте сходимость на график из пункта (в) Задачи 2, предварительно поменяв ось $x$ (что теперь будете откладывать по оси $x$?)."
   ]
  },
  {
   "cell_type": "code",
   "execution_count": null,
   "id": "ead8a333",
   "metadata": {},
   "outputs": [],
   "source": [
    "#ответ"
   ]
  }
 ],
 "metadata": {
  "kernelspec": {
   "display_name": "Python 3",
   "language": "python",
   "name": "python3"
  },
  "language_info": {
   "codemirror_mode": {
    "name": "ipython",
    "version": 3
   },
   "file_extension": ".py",
   "mimetype": "text/x-python",
   "name": "python",
   "nbconvert_exporter": "python",
   "pygments_lexer": "ipython3",
   "version": "3.8.10"
  }
 },
 "nbformat": 4,
 "nbformat_minor": 5
}
